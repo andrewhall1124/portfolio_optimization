{
 "cells": [
  {
   "cell_type": "code",
   "execution_count": 1,
   "metadata": {},
   "outputs": [],
   "source": [
    "import pandas as pd \n",
    "import numpy as np\n",
    "import yfinance as yf\n",
    "import cvxpy as cp\n",
    "import matplotlib.pyplot as plt\n",
    "from scipy.optimize import minimize"
   ]
  },
  {
   "cell_type": "code",
   "execution_count": 2,
   "metadata": {},
   "outputs": [],
   "source": [
    "expected_returns = np.load('data/expected_returns.npy')\n",
    "cov_matrix = np.load('data/covariance_matrix.npy')\n",
    "n_assets = len(expected_returns)"
   ]
  },
  {
   "cell_type": "code",
   "execution_count": 3,
   "metadata": {},
   "outputs": [
    {
     "name": "stdout",
     "output_type": "stream",
     "text": [
      "Optimal Weights: [ 1.41013906  0.56660485 -0.94942203 -0.02732188]\n",
      "Optimal Sharpe: 0.06955510935144615\n"
     ]
    }
   ],
   "source": [
    "# Define risk-aversion parameter (lambda) for the trade-off\n",
    "lambda_param = .5  # Adjust between 0 and 1 to balance risk and return\n",
    "\n",
    "weights = cp.Variable(n_assets)\n",
    "\n",
    "portfolio_return = expected_returns @ weights\n",
    "portfolio_variance = cp.quad_form(weights, cov_matrix)\n",
    "\n",
    "# Objective: maximize a combination of return and negative variance\n",
    "objective = cp.Maximize(lambda_param * (portfolio_return) - (1 - lambda_param) * portfolio_variance)\n",
    "\n",
    "constraints = [\n",
    "    cp.sum(weights) == 1,  # sum of weights is 1\n",
    "]\n",
    "\n",
    "problem = cp.Problem(objective, constraints)\n",
    "problem.solve()\n",
    "\n",
    "print(\"Optimal Weights:\", weights.value)\n",
    "print(\"Optimal Sharpe:\", portfolio_return.value / np.sqrt(portfolio_variance.value))"
   ]
  }
 ],
 "metadata": {
  "kernelspec": {
   "display_name": ".venv",
   "language": "python",
   "name": "python3"
  },
  "language_info": {
   "codemirror_mode": {
    "name": "ipython",
    "version": 3
   },
   "file_extension": ".py",
   "mimetype": "text/x-python",
   "name": "python",
   "nbconvert_exporter": "python",
   "pygments_lexer": "ipython3",
   "version": "3.12.4"
  }
 },
 "nbformat": 4,
 "nbformat_minor": 2
}
