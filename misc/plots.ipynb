{
 "cells": [
  {
   "cell_type": "code",
   "execution_count": null,
   "metadata": {},
   "outputs": [],
   "source": [
    "from research.datasets import Historical\n",
    "import seaborn as sns\n",
    "import matplotlib.pyplot as plt\n",
    "import numpy as np\n",
    "from research.interfaces import AssetData\n",
    "import pandas as pd"
   ]
  },
  {
   "cell_type": "code",
   "execution_count": null,
   "metadata": {},
   "outputs": [],
   "source": [
    "df = pd.read_csv(\"samples_100_100.csv\", index_col=0)"
   ]
  },
  {
   "cell_type": "code",
   "execution_count": null,
   "metadata": {},
   "outputs": [],
   "source": [
    "grouped = (\n",
    "    df.groupby([\"method\", \"benchmark\"])[[\"backlog\", \"deficit\", \"sample\", \"n_assets\"]]\n",
    "    .mean()\n",
    "    .reset_index()\n",
    ")\n",
    "grouped"
   ]
  },
  {
   "cell_type": "code",
   "execution_count": null,
   "metadata": {},
   "outputs": [],
   "source": [
    "sns.barplot(grouped, x=\"method\", y=\"backlog\", hue=\"method\")\n",
    "plt.suptitle(\"Backlog Risk\")\n",
    "plt.title(\"100 Sample Average of 100 Asset Portfolios\")\n",
    "plt.xlabel(\"Method\")\n",
    "plt.ylabel(\"Backlog Risk\")\n",
    "plt.savefig(\"Experiment1.png\")"
   ]
  },
  {
   "cell_type": "code",
   "execution_count": null,
   "metadata": {},
   "outputs": [],
   "source": [
    "# plt.figure(figsize=(8,5))\n",
    "for method in [\"qp_ceil\", \"qp_floor\", \"qp_mid\", \"two_stage_qp\"]:\n",
    "    sns.kdeplot(df[df[\"method\"] == method], x=\"backlog\", label=method, fill=True)\n",
    "\n",
    "plt.suptitle(\"Distribution of Backlog Risk\")\n",
    "plt.title(\"100 Samples of 100 Asset Portfolios\")\n",
    "plt.xlabel(\"Backlog\")\n",
    "plt.legend()\n",
    "plt.xlim(-0.15, 0.15)\n",
    "plt.savefig(\"Experiment1b.png\")"
   ]
  },
  {
   "cell_type": "code",
   "execution_count": null,
   "metadata": {},
   "outputs": [],
   "source": [
    "df[df[\"method\"] == method][\"backlog\"].quantile(0.99)"
   ]
  },
  {
   "cell_type": "code",
   "execution_count": null,
   "metadata": {},
   "outputs": [],
   "source": [
    "df.groupby(\"method\")[\"backlog\"].describe().round(3)"
   ]
  },
  {
   "cell_type": "code",
   "execution_count": null,
   "metadata": {},
   "outputs": [],
   "source": [
    "df_list = []\n",
    "for x in range(1, 9):\n",
    "    file_name = f\"samples_{x*10}.csv\"\n",
    "    df = pd.read_csv(file_name, index_col=0)\n",
    "    df_list.append(df)\n",
    "\n",
    "df = pd.concat(df_list)\n",
    "\n",
    "df = df.reset_index(drop=True)\n",
    "\n",
    "df"
   ]
  },
  {
   "cell_type": "code",
   "execution_count": null,
   "metadata": {},
   "outputs": [],
   "source": [
    "grouped = df.groupby([\"n_assets\", \"method\"])[[\"backlog\", \"deficit\"]].mean().reset_index()\n",
    "\n",
    "grouped"
   ]
  },
  {
   "cell_type": "code",
   "execution_count": null,
   "metadata": {},
   "outputs": [],
   "source": [
    "# plt.figure(figsize=(10,6))\n",
    "grouped = grouped[grouped[\"method\"] != \"qp\"]\n",
    "sns.barplot(grouped, x=\"n_assets\", y=\"backlog\", hue=\"method\")\n",
    "plt.suptitle(\"Backlog Risk as Assets Scale\")\n",
    "plt.title(\"Average Across 30 Samples\")\n",
    "plt.ylabel(\"Backlog\")\n",
    "plt.xlabel(\"Number of Assets\")\n",
    "plt.savefig(\"Experiment2.png\")"
   ]
  },
  {
   "cell_type": "code",
   "execution_count": null,
   "metadata": {},
   "outputs": [],
   "source": [
    "df = pd.read_csv(\"budget_100.csv\", index_col=0)\n",
    "\n",
    "df"
   ]
  },
  {
   "cell_type": "code",
   "execution_count": null,
   "metadata": {},
   "outputs": [],
   "source": [
    "grouped = df.groupby(\"budget\")[\"backlog_ratio\"].mean().reset_index()\n",
    "\n",
    "grouped[\"log_backlog_ratio\"] = np.log(grouped[\"backlog_ratio\"])\n",
    "\n",
    "grouped"
   ]
  },
  {
   "cell_type": "code",
   "execution_count": null,
   "metadata": {},
   "outputs": [],
   "source": [
    "plt.suptitle(\"Log Backlog ratio as Budget Scales\")\n",
    "plt.title(\"30 Sample Averages for 100 Asset Portfolios\")\n",
    "sns.barplot(grouped, x=\"budget\", y=\"log_backlog_ratio\", color=\"firebrick\")\n",
    "plt.xlabel(\"Budget\")\n",
    "plt.ylabel(\"Log Backlog Ratio\")\n",
    "plt.savefig(\"Experiment3.png\")"
   ]
  },
  {
   "cell_type": "code",
   "execution_count": null,
   "metadata": {},
   "outputs": [],
   "source": []
  }
 ],
 "metadata": {
  "kernelspec": {
   "display_name": ".venv",
   "language": "python",
   "name": "python3"
  },
  "language_info": {
   "codemirror_mode": {
    "name": "ipython",
    "version": 3
   },
   "file_extension": ".py",
   "mimetype": "text/x-python",
   "name": "python",
   "nbconvert_exporter": "python",
   "pygments_lexer": "ipython3",
   "version": "3.12.4"
  }
 },
 "nbformat": 4,
 "nbformat_minor": 2
}
