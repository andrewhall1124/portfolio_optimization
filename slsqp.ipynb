{
 "cells": [
  {
   "cell_type": "code",
   "execution_count": 16,
   "metadata": {},
   "outputs": [],
   "source": [
    "import pandas as pd \n",
    "import numpy as np\n",
    "import yfinance as yf\n",
    "import cvxpy as cp\n",
    "import matplotlib.pyplot as plt\n",
    "from scipy.optimize import minimize"
   ]
  },
  {
   "cell_type": "code",
   "execution_count": 17,
   "metadata": {},
   "outputs": [],
   "source": [
    "expected_returns = np.load('data/expected_returns.npy')\n",
    "cov_matrix = np.load('data/covariance_matrix.npy')\n",
    "n_assets = len(expected_returns)"
   ]
  },
  {
   "cell_type": "code",
   "execution_count": 18,
   "metadata": {},
   "outputs": [
    {
     "name": "stdout",
     "output_type": "stream",
     "text": [
      "Optimal Weights: [ 0.50893363  0.23805795 -0.1962105   0.44921893]\n",
      "Optimal Sharpe Ratio: 0.08429047402912024\n"
     ]
    }
   ],
   "source": [
    "# Initial guess: equal weights\n",
    "initial_weights = np.ones(n_assets) / n_assets\n",
    "\n",
    "constraints = ({'type': 'eq', 'fun': lambda x: np.sum(x) - 1})\n",
    "\n",
    "def negative_sharpe_ratio(weights, expected_returns, cov_matrix):\n",
    "    portfolio_return = weights @ expected_returns\n",
    "    portfolio_std_dev = np.sqrt(weights @ cov_matrix @ weights) \n",
    "    return -portfolio_return / portfolio_std_dev \n",
    "\n",
    "result = minimize(negative_sharpe_ratio, initial_weights, \n",
    "                  args=(expected_returns, cov_matrix),\n",
    "                  method='SLSQP', constraints=constraints)\n",
    "\n",
    "optimal_weights = result.x\n",
    "print(\"Optimal Weights:\", optimal_weights)\n",
    "print(\"Optimal Sharpe Ratio:\", -result.fun)\n"
   ]
  }
 ],
 "metadata": {
  "kernelspec": {
   "display_name": ".venv",
   "language": "python",
   "name": "python3"
  },
  "language_info": {
   "codemirror_mode": {
    "name": "ipython",
    "version": 3
   },
   "file_extension": ".py",
   "mimetype": "text/x-python",
   "name": "python",
   "nbconvert_exporter": "python",
   "pygments_lexer": "ipython3",
   "version": "3.12.4"
  }
 },
 "nbformat": 4,
 "nbformat_minor": 2
}
