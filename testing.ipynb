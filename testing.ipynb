{
 "cells": [
  {
   "cell_type": "code",
   "execution_count": 1,
   "metadata": {},
   "outputs": [],
   "source": [
    "from research.datasets import Basic\n",
    "from research.enums import Optimizer\n",
    "from research.portfolio import Portfolio\n",
    "from research.utils import chart"
   ]
  },
  {
   "cell_type": "code",
   "execution_count": 2,
   "metadata": {},
   "outputs": [],
   "source": [
    "data = Basic()\n",
    "budget = 1e6\n",
    "portfolio = Portfolio(\n",
    "    data.names, data.prices, data.expected_returns, data.covariance_matrix, budget\n",
    ")"
   ]
  },
  {
   "cell_type": "code",
   "execution_count": 3,
   "metadata": {},
   "outputs": [
    {
     "name": "stdout",
     "output_type": "stream",
     "text": [
      "Iteration: 0, gamma range: [0, 20], sharpe: 0\n",
      "Iteration: 1, gamma range: [10.0, 20], sharpe: 1.3380705582900414\n",
      "Iteration: 2, gamma range: [15.0, 20], sharpe: 1.3380695408677672\n"
     ]
    },
    {
     "data": {
      "text/html": [
       "<div>\n",
       "<style scoped>\n",
       "    .dataframe tbody tr th:only-of-type {\n",
       "        vertical-align: middle;\n",
       "    }\n",
       "\n",
       "    .dataframe tbody tr th {\n",
       "        vertical-align: top;\n",
       "    }\n",
       "\n",
       "    .dataframe thead th {\n",
       "        text-align: right;\n",
       "    }\n",
       "</style>\n",
       "<table border=\"1\" class=\"dataframe\">\n",
       "  <thead>\n",
       "    <tr style=\"text-align: right;\">\n",
       "      <th></th>\n",
       "      <th>expected_return</th>\n",
       "      <th>standard_devation</th>\n",
       "      <th>sharpe</th>\n",
       "      <th>value</th>\n",
       "      <th>deficit</th>\n",
       "      <th>AAPL_S</th>\n",
       "      <th>COKE_S</th>\n",
       "      <th>F_S</th>\n",
       "      <th>VZ_S</th>\n",
       "    </tr>\n",
       "  </thead>\n",
       "  <tbody>\n",
       "    <tr>\n",
       "      <th>0</th>\n",
       "      <td>5.118726</td>\n",
       "      <td>3.825457</td>\n",
       "      <td>1.338069</td>\n",
       "      <td>215158.934425</td>\n",
       "      <td>784841.065575</td>\n",
       "      <td>1504.0</td>\n",
       "      <td>177.0</td>\n",
       "      <td>-4555.0</td>\n",
       "      <td>1577.0</td>\n",
       "    </tr>\n",
       "  </tbody>\n",
       "</table>\n",
       "</div>"
      ],
      "text/plain": [
       "   expected_return  standard_devation    sharpe          value        deficit  \\\n",
       "0         5.118726           3.825457  1.338069  215158.934425  784841.065575   \n",
       "\n",
       "   AAPL_S  COKE_S     F_S    VZ_S  \n",
       "0  1504.0   177.0 -4555.0  1577.0  "
      ]
     },
     "execution_count": 3,
     "metadata": {},
     "output_type": "execute_result"
    }
   ],
   "source": [
    "portfolio.optimize(method=Optimizer.ITER_MIQP)\n",
    "portfolio.metrics_df(include_shares=True)"
   ]
  },
  {
   "cell_type": "code",
   "execution_count": null,
   "metadata": {},
   "outputs": [],
   "source": []
  }
 ],
 "metadata": {
  "kernelspec": {
   "display_name": ".venv",
   "language": "python",
   "name": "python3"
  },
  "language_info": {
   "codemirror_mode": {
    "name": "ipython",
    "version": 3
   },
   "file_extension": ".py",
   "mimetype": "text/x-python",
   "name": "python",
   "nbconvert_exporter": "python",
   "pygments_lexer": "ipython3",
   "version": "3.12.4"
  }
 },
 "nbformat": 4,
 "nbformat_minor": 2
}
